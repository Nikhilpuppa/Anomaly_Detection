{
  "nbformat": 4,
  "nbformat_minor": 0,
  "metadata": {
    "colab": {
      "provenance": []
    },
    "kernelspec": {
      "name": "python3",
      "display_name": "Python 3"
    },
    "language_info": {
      "name": "python"
    }
  },
  "cells": [
    {
      "cell_type": "code",
      "execution_count": null,
      "metadata": {
        "id": "_I3L3jZzyq3n"
      },
      "outputs": [],
      "source": [
        "import tensorflow as tf\n",
        "from tensorflow.keras import layers\n",
        "import numpy as np"
      ]
    },
    {
      "cell_type": "code",
      "source": [
        "from scipy.ndimage import rotate\n",
        "\n",
        "angle = 13\n",
        "\n",
        "def rotate_and_crop(images, angle):\n",
        "    rotated_images = []\n",
        "    for img in images:\n",
        "        rotated_img = rotate(img.squeeze(), angle, reshape=False)\n",
        "        center_x, center_y = rotated_img.shape[0] // 2, rotated_img.shape[1] // 2\n",
        "        cropped_img = rotated_img[center_x - 16:center_x + 16, center_y - 16:center_y + 16]\n",
        "        rotated_images.append(cropped_img)\n",
        "    return np.array(rotated_images)\n",
        "\n",
        "\n"
      ],
      "metadata": {
        "id": "fo-eYcqe8w-d"
      },
      "execution_count": null,
      "outputs": []
    },
    {
      "cell_type": "code",
      "source": [
        "# Load CIFAR-10 dataset\n",
        "import tensorflow as tf\n",
        "from tensorflow.keras.datasets import cifar10\n",
        "from scipy.ndimage import rotate\n",
        "(train_images, train_labels), (test_images, test_labels) = tf.keras.datasets.cifar10.load_data()\n",
        "\n",
        "# Select only the 'plane' class images (class index 0 in CIFAR-10)\n",
        "plane_train_images =train_images[np.where(train_labels == 0)[0]]\n",
        "plane_test_images = test_images[np.where(test_labels == 0)[0]]\n",
        "\n",
        "# Apply rotation transformation to the plane images\n",
        "angle = 13  # Rotation angle in degrees\n",
        "\n",
        "rotated_plane_train_images = rotate_and_crop(plane_train_images, angle)\n",
        "rotated_plane_test_images = rotate_and_crop(plane_test_images, angle)\n",
        "\n",
        "\n",
        "# Normalize pixel values to range [0, 1]\n",
        "plane_train_images = plane_train_images.astype('float32') / 255.\n",
        "plane_test_images = plane_test_images.astype('float32') / 255.\n",
        "rotated_plane_train_images = rotated_plane_train_images.astype('float32') / 255.\n",
        "rotated_plane_test_images = rotated_plane_test_images.astype('float32') / 255.\n",
        "\n",
        "# Create rotation angle labels\n",
        "train_angles = np.full((len(plane_train_images), 1), angle)\n",
        "test_angles = np.full((len(plane_test_images), 1), angle)\n",
        "\n",
        "# Concatenate original and rotated images\n",
        "\n",
        "\n"
      ],
      "metadata": {
        "id": "JCaPUtY0yyhW"
      },
      "execution_count": null,
      "outputs": []
    },
    {
      "cell_type": "code",
      "source": [
        "import tensorflow as tf\n",
        "\n",
        "def autoencoder(input_shape):\n",
        "    # Input layers\n",
        "    normal_image_input = tf.keras.layers.Input(shape=input_shape, name='normal_image_input')\n",
        "    rotated_image_input = tf.keras.layers.Input(shape=input_shape, name='rotated_image_input')\n",
        "\n",
        "    # Encoder for normal image\n",
        "    x_normal = tf.keras.layers.Conv2D(32, (3, 3), activation='relu', padding='same')(normal_image_input)\n",
        "    x_normal = tf.keras.layers.MaxPooling2D((2, 2), padding='same')(x_normal)\n",
        "    x_normal = tf.keras.layers.Conv2D(64, (3, 3), activation='relu', padding='same')(x_normal)\n",
        "    x_normal = tf.keras.layers.MaxPooling2D((2, 2), padding='same')(x_normal)\n",
        "\n",
        "    # Encoder for rotated image\n",
        "    x_rotated = tf.keras.layers.Conv2D(32, (3, 3), activation='relu', padding='same')(rotated_image_input)\n",
        "    x_rotated = tf.keras.layers.MaxPooling2D((2, 2), padding='same')(x_rotated)\n",
        "    x_rotated = tf.keras.layers.Conv2D(64, (3, 3), activation='relu', padding='same')(x_rotated)\n",
        "    x_rotated = tf.keras.layers.MaxPooling2D((2, 2), padding='same')(x_rotated)\n",
        "\n",
        "    # Concatenate encoded features\n",
        "    concatenated_features = tf.keras.layers.Concatenate()([x_normal, x_rotated])\n",
        "\n",
        "    # Decoder\n",
        "    x = tf.keras.layers.Conv2D(64, (3, 3), activation='relu', padding='same')(concatenated_features)\n",
        "    x = tf.keras.layers.UpSampling2D((2, 2))(x)\n",
        "    x = tf.keras.layers.Conv2D(32, (3, 3), activation='relu', padding='same')(x)\n",
        "    x = tf.keras.layers.UpSampling2D((2, 2))(x)\n",
        "    outputs = tf.keras.layers.Conv2D(1, (3, 3), activation='sigmoid', padding='same')(x)\n",
        "\n",
        "    # Transformation prediction layer\n",
        "    global_pooling = tf.keras.layers.GlobalAveragePooling2D()(concatenated_features)\n",
        "    angle_prediction = tf.keras.layers.Dense(1, activation='linear', name='angle_prediction')(global_pooling)\n",
        "\n",
        "    # Compile modelDD\n",
        "    autoencoder_model = tf.keras.Model(inputs=[normal_image_input, rotated_image_input], outputs=[outputs, angle_prediction])\n",
        "    autoencoder_model.compile(optimizer='adam', loss=['mse', 'mse'], loss_weights=[1.0, 0.5])\n",
        "    return autoencoder_model\n",
        "\n",
        "input_shape = (32, 32, 3)\n",
        "autoencoder_model = autoencoder(input_shape)\n",
        "autoencoder_model.summary()\n"
      ],
      "metadata": {
        "colab": {
          "base_uri": "https://localhost:8080/"
        },
        "id": "4hXJfNXnzDkI",
        "outputId": "7320d57f-6646-4347-ec9d-358a3d9643ea"
      },
      "execution_count": null,
      "outputs": [
        {
          "output_type": "stream",
          "name": "stdout",
          "text": [
            "Model: \"model_1\"\n",
            "__________________________________________________________________________________________________\n",
            " Layer (type)                Output Shape                 Param #   Connected to                  \n",
            "==================================================================================================\n",
            " normal_image_input (InputL  [(None, 32, 32, 3)]          0         []                            \n",
            " ayer)                                                                                            \n",
            "                                                                                                  \n",
            " rotated_image_input (Input  [(None, 32, 32, 3)]          0         []                            \n",
            " Layer)                                                                                           \n",
            "                                                                                                  \n",
            " conv2d_7 (Conv2D)           (None, 32, 32, 32)           896       ['normal_image_input[0][0]']  \n",
            "                                                                                                  \n",
            " conv2d_9 (Conv2D)           (None, 32, 32, 32)           896       ['rotated_image_input[0][0]'] \n",
            "                                                                                                  \n",
            " max_pooling2d_4 (MaxPoolin  (None, 16, 16, 32)           0         ['conv2d_7[0][0]']            \n",
            " g2D)                                                                                             \n",
            "                                                                                                  \n",
            " max_pooling2d_6 (MaxPoolin  (None, 16, 16, 32)           0         ['conv2d_9[0][0]']            \n",
            " g2D)                                                                                             \n",
            "                                                                                                  \n",
            " conv2d_8 (Conv2D)           (None, 16, 16, 64)           18496     ['max_pooling2d_4[0][0]']     \n",
            "                                                                                                  \n",
            " conv2d_10 (Conv2D)          (None, 16, 16, 64)           18496     ['max_pooling2d_6[0][0]']     \n",
            "                                                                                                  \n",
            " max_pooling2d_5 (MaxPoolin  (None, 8, 8, 64)             0         ['conv2d_8[0][0]']            \n",
            " g2D)                                                                                             \n",
            "                                                                                                  \n",
            " max_pooling2d_7 (MaxPoolin  (None, 8, 8, 64)             0         ['conv2d_10[0][0]']           \n",
            " g2D)                                                                                             \n",
            "                                                                                                  \n",
            " concatenate_1 (Concatenate  (None, 8, 8, 128)            0         ['max_pooling2d_5[0][0]',     \n",
            " )                                                                   'max_pooling2d_7[0][0]']     \n",
            "                                                                                                  \n",
            " conv2d_11 (Conv2D)          (None, 8, 8, 64)             73792     ['concatenate_1[0][0]']       \n",
            "                                                                                                  \n",
            " up_sampling2d_2 (UpSamplin  (None, 16, 16, 64)           0         ['conv2d_11[0][0]']           \n",
            " g2D)                                                                                             \n",
            "                                                                                                  \n",
            " conv2d_12 (Conv2D)          (None, 16, 16, 32)           18464     ['up_sampling2d_2[0][0]']     \n",
            "                                                                                                  \n",
            " up_sampling2d_3 (UpSamplin  (None, 32, 32, 32)           0         ['conv2d_12[0][0]']           \n",
            " g2D)                                                                                             \n",
            "                                                                                                  \n",
            " global_average_pooling2d_1  (None, 128)                  0         ['concatenate_1[0][0]']       \n",
            "  (GlobalAveragePooling2D)                                                                        \n",
            "                                                                                                  \n",
            " conv2d_13 (Conv2D)          (None, 32, 32, 1)            289       ['up_sampling2d_3[0][0]']     \n",
            "                                                                                                  \n",
            " angle_prediction (Dense)    (None, 1)                    129       ['global_average_pooling2d_1[0\n",
            "                                                                    ][0]']                        \n",
            "                                                                                                  \n",
            "==================================================================================================\n",
            "Total params: 131458 (513.51 KB)\n",
            "Trainable params: 131458 (513.51 KB)\n",
            "Non-trainable params: 0 (0.00 Byte)\n",
            "__________________________________________________________________________________________________\n"
          ]
        }
      ]
    },
    {
      "cell_type": "code",
      "source": [
        "len(train_images)"
      ],
      "metadata": {
        "id": "101NYC2kzkHw",
        "colab": {
          "base_uri": "https://localhost:8080/"
        },
        "outputId": "9a87dce7-9dd5-4490-d41a-be43c6f5ea26"
      },
      "execution_count": null,
      "outputs": [
        {
          "output_type": "execute_result",
          "data": {
            "text/plain": [
              "50000"
            ]
          },
          "metadata": {},
          "execution_count": 82
        }
      ]
    },
    {
      "cell_type": "code",
      "source": [
        "len(train_images[0])"
      ],
      "metadata": {
        "id": "6WtxzQ6H08KO",
        "colab": {
          "base_uri": "https://localhost:8080/"
        },
        "outputId": "cb209e50-fba1-4a32-89a3-651bd07980ea"
      },
      "execution_count": null,
      "outputs": [
        {
          "output_type": "execute_result",
          "data": {
            "text/plain": [
              "32"
            ]
          },
          "metadata": {},
          "execution_count": 83
        }
      ]
    },
    {
      "cell_type": "code",
      "source": [
        "\n",
        "len(train_images[1])"
      ],
      "metadata": {
        "id": "bfoEjf4u1MJ9",
        "colab": {
          "base_uri": "https://localhost:8080/"
        },
        "outputId": "d7781e30-1f83-4f22-ce12-2c86e6a6dac1"
      },
      "execution_count": null,
      "outputs": [
        {
          "output_type": "execute_result",
          "data": {
            "text/plain": [
              "32"
            ]
          },
          "metadata": {},
          "execution_count": 84
        }
      ]
    },
    {
      "cell_type": "code",
      "source": [
        "\n",
        "autoencoder_model.fit(x=[plane_train_images, rotated_plane_train_images],\n",
        "                      y=[plane_train_images, train_angles],\n",
        "                      epochs=10,\n",
        "                      batch_size=128,\n",
        "                      shuffle=True)"
      ],
      "metadata": {
        "colab": {
          "base_uri": "https://localhost:8080/"
        },
        "id": "HFjJUaCH1P3s",
        "outputId": "14f5881c-8670-4972-b1dd-9430143a6825"
      },
      "execution_count": null,
      "outputs": [
        {
          "output_type": "stream",
          "name": "stdout",
          "text": [
            "Epoch 1/10\n",
            "40/40 [==============================] - 40s 887ms/step - loss: 26.0695 - conv2d_13_loss: 0.0508 - angle_prediction_loss: 52.0374\n",
            "Epoch 2/10\n",
            "40/40 [==============================] - 27s 683ms/step - loss: 3.6435 - conv2d_13_loss: 0.0381 - angle_prediction_loss: 7.2108\n",
            "Epoch 3/10\n",
            "40/40 [==============================] - 27s 680ms/step - loss: 2.7191 - conv2d_13_loss: 0.0309 - angle_prediction_loss: 5.3762\n",
            "Epoch 4/10\n",
            "40/40 [==============================] - 28s 692ms/step - loss: 1.6322 - conv2d_13_loss: 0.0250 - angle_prediction_loss: 3.2142\n",
            "Epoch 5/10\n",
            "40/40 [==============================] - 28s 698ms/step - loss: 0.6342 - conv2d_13_loss: 0.0234 - angle_prediction_loss: 1.2215\n",
            "Epoch 6/10\n",
            "40/40 [==============================] - 30s 733ms/step - loss: 0.2638 - conv2d_13_loss: 0.0227 - angle_prediction_loss: 0.4822\n",
            "Epoch 7/10\n",
            "40/40 [==============================] - 28s 685ms/step - loss: 0.1858 - conv2d_13_loss: 0.0215 - angle_prediction_loss: 0.3285\n",
            "Epoch 8/10\n",
            "40/40 [==============================] - 28s 705ms/step - loss: 0.1489 - conv2d_13_loss: 0.0199 - angle_prediction_loss: 0.2580\n",
            "Epoch 9/10\n",
            "40/40 [==============================] - 28s 697ms/step - loss: 0.1299 - conv2d_13_loss: 0.0191 - angle_prediction_loss: 0.2217\n",
            "Epoch 10/10\n",
            "40/40 [==============================] - 27s 686ms/step - loss: 0.1168 - conv2d_13_loss: 0.0184 - angle_prediction_loss: 0.1969\n"
          ]
        },
        {
          "output_type": "execute_result",
          "data": {
            "text/plain": [
              "<keras.src.callbacks.History at 0x7c7d7c02f250>"
            ]
          },
          "metadata": {},
          "execution_count": 85
        }
      ]
    },
    {
      "cell_type": "code",
      "source": [
        "plane_train_images.shape"
      ],
      "metadata": {
        "id": "NuMDkLTh1-2e",
        "colab": {
          "base_uri": "https://localhost:8080/"
        },
        "outputId": "18e3c5ff-de5d-4503-e7d1-47c3433d9926"
      },
      "execution_count": null,
      "outputs": [
        {
          "output_type": "execute_result",
          "data": {
            "text/plain": [
              "(5000, 32, 32, 3)"
            ]
          },
          "metadata": {},
          "execution_count": 86
        }
      ]
    },
    {
      "cell_type": "code",
      "source": [
        "rotated_plane_train_images.shape"
      ],
      "metadata": {
        "id": "BdsRFvp26WlN",
        "colab": {
          "base_uri": "https://localhost:8080/"
        },
        "outputId": "0c0a8b11-3195-44a2-811c-853431a32052"
      },
      "execution_count": null,
      "outputs": [
        {
          "output_type": "execute_result",
          "data": {
            "text/plain": [
              "(5000, 32, 32, 3)"
            ]
          },
          "metadata": {},
          "execution_count": 87
        }
      ]
    },
    {
      "cell_type": "code",
      "source": [
        "train_angles.shape"
      ],
      "metadata": {
        "id": "cQIOK5_Q8AR8",
        "colab": {
          "base_uri": "https://localhost:8080/"
        },
        "outputId": "0e53d79d-7927-44b0-b434-d38500f995f2"
      },
      "execution_count": null,
      "outputs": [
        {
          "output_type": "execute_result",
          "data": {
            "text/plain": [
              "(5000, 1)"
            ]
          },
          "metadata": {},
          "execution_count": 88
        }
      ]
    },
    {
      "cell_type": "code",
      "source": [
        "train_angles\n"
      ],
      "metadata": {
        "id": "uYL79a0wBMlt",
        "colab": {
          "base_uri": "https://localhost:8080/"
        },
        "outputId": "15adc24e-430b-4e35-9399-806710c86efe"
      },
      "execution_count": null,
      "outputs": [
        {
          "output_type": "execute_result",
          "data": {
            "text/plain": [
              "array([[13],\n",
              "       [13],\n",
              "       [13],\n",
              "       ...,\n",
              "       [13],\n",
              "       [13],\n",
              "       [13]])"
            ]
          },
          "metadata": {},
          "execution_count": 89
        }
      ]
    },
    {
      "cell_type": "code",
      "source": [
        "reconstructed_images, angle_predictions = autoencoder_model.predict([plane_test_images, rotated_plane_test_images])"
      ],
      "metadata": {
        "colab": {
          "base_uri": "https://localhost:8080/"
        },
        "id": "MJnjXXb_BO1d",
        "outputId": "62701678-cad8-4360-dffb-56282397427b"
      },
      "execution_count": null,
      "outputs": [
        {
          "output_type": "stream",
          "name": "stdout",
          "text": [
            "32/32 [==============================] - 1s 42ms/step\n"
          ]
        }
      ]
    },
    {
      "cell_type": "code",
      "source": [
        "\n",
        "\n",
        "import matplotlib.pyplot as plt\n",
        "\n",
        "def plot_reconstructed_images(reconstructed_images):\n",
        "    # Plot the first 10 reconstructed images\n",
        "    fig, axes = plt.subplots(2, 5, figsize=(12, 6))\n",
        "    axes = axes.flatten()\n",
        "\n",
        "    for i in range(10):\n",
        "        axes[i].imshow(reconstructed_images[i].reshape(32, 32), cmap='gray')\n",
        "        axes[i].axis('off')\n",
        "\n",
        "    plt.show()\n",
        "\n",
        "# Example usage:\n",
        "# Assuming reconstructed_images is a numpy array containing the reconstructed images\n",
        "# Assuming the first dimension corresponds to the batch size\n",
        "# plot_reconstructed_images(reconstructed_images)\n"
      ],
      "metadata": {
        "id": "mxoTxJVDGJUc"
      },
      "execution_count": null,
      "outputs": []
    },
    {
      "cell_type": "code",
      "source": [
        "angle_predictions[:10]"
      ],
      "metadata": {
        "id": "nuYnGbj_GkTU",
        "colab": {
          "base_uri": "https://localhost:8080/"
        },
        "outputId": "76ff248f-b3c8-4cb7-815d-858f24e0ce48"
      },
      "execution_count": null,
      "outputs": [
        {
          "output_type": "execute_result",
          "data": {
            "text/plain": [
              "array([[12.977581],\n",
              "       [12.474321],\n",
              "       [13.105673],\n",
              "       [12.901862],\n",
              "       [13.528507],\n",
              "       [12.62752 ],\n",
              "       [13.178266],\n",
              "       [13.049372],\n",
              "       [11.831699],\n",
              "       [14.009483]], dtype=float32)"
            ]
          },
          "metadata": {},
          "execution_count": 92
        }
      ]
    },
    {
      "cell_type": "code",
      "source": [
        "import numpy as np\n",
        "\n",
        "def calculate_mse(original_images, reconstructed_images, ground_truth_angles, predicted_angles):\n",
        "    # Calculate MSE for reconstructed images\n",
        "    reconstructed_mse = np.mean(np.square(original_images - reconstructed_images))\n",
        "\n",
        "    # Calculate MSE for angle predictions\n",
        "    angle_mse = np.mean(np.square(ground_truth_angles - predicted_angles))\n",
        "\n",
        "    # Combine MSE values (e.g., take the sum)\n",
        "    combined_mse = reconstructed_mse + angle_mse\n",
        "\n",
        "    # Define threshold (e.g., as a percentage of the combined MSE)\n",
        "\n",
        "    return combined_mse\n"
      ],
      "metadata": {
        "id": "gn7T7CNFcvgy"
      },
      "execution_count": null,
      "outputs": []
    },
    {
      "cell_type": "code",
      "source": [
        "train_angles.shape"
      ],
      "metadata": {
        "colab": {
          "base_uri": "https://localhost:8080/"
        },
        "id": "fl9JxV2OgIro",
        "outputId": "b5ae41ab-b2a5-4a1c-eab2-29f55c8887c7"
      },
      "execution_count": null,
      "outputs": [
        {
          "output_type": "execute_result",
          "data": {
            "text/plain": [
              "(5000, 1)"
            ]
          },
          "metadata": {},
          "execution_count": 94
        }
      ]
    },
    {
      "cell_type": "code",
      "source": [
        "angle_predictions.shape"
      ],
      "metadata": {
        "colab": {
          "base_uri": "https://localhost:8080/"
        },
        "id": "aJhU87-FgbkX",
        "outputId": "42d51cab-763a-4cd5-f230-7546f175b1cf"
      },
      "execution_count": null,
      "outputs": [
        {
          "output_type": "execute_result",
          "data": {
            "text/plain": [
              "(1000, 1)"
            ]
          },
          "metadata": {},
          "execution_count": 95
        }
      ]
    },
    {
      "cell_type": "code",
      "source": [
        "len(train_images)"
      ],
      "metadata": {
        "colab": {
          "base_uri": "https://localhost:8080/"
        },
        "id": "AJcZW4gf9XmT",
        "outputId": "1487afef-dd36-4fcc-8e7d-19d35e27782b"
      },
      "execution_count": null,
      "outputs": [
        {
          "output_type": "execute_result",
          "data": {
            "text/plain": [
              "50000"
            ]
          },
          "metadata": {},
          "execution_count": 96
        }
      ]
    },
    {
      "cell_type": "code",
      "source": [
        "len(train_images)"
      ],
      "metadata": {
        "colab": {
          "base_uri": "https://localhost:8080/"
        },
        "id": "FHxEYnLk_Wj6",
        "outputId": "a9103d13-730d-44ac-ae0a-e6a4de3f694c"
      },
      "execution_count": null,
      "outputs": [
        {
          "output_type": "execute_result",
          "data": {
            "text/plain": [
              "50000"
            ]
          },
          "metadata": {},
          "execution_count": 97
        }
      ]
    },
    {
      "cell_type": "code",
      "source": [
        "len(train_images[0])"
      ],
      "metadata": {
        "colab": {
          "base_uri": "https://localhost:8080/"
        },
        "id": "aHgF41aFAQje",
        "outputId": "7b16fef5-b849-482d-837e-c286643b0a4c"
      },
      "execution_count": null,
      "outputs": [
        {
          "output_type": "execute_result",
          "data": {
            "text/plain": [
              "32"
            ]
          },
          "metadata": {},
          "execution_count": 98
        }
      ]
    },
    {
      "cell_type": "code",
      "source": [
        "len(train_labels)"
      ],
      "metadata": {
        "colab": {
          "base_uri": "https://localhost:8080/"
        },
        "id": "OYrhsLGKAMeu",
        "outputId": "101ba9b8-4561-43a8-c472-c6d71f606fb3"
      },
      "execution_count": null,
      "outputs": [
        {
          "output_type": "execute_result",
          "data": {
            "text/plain": [
              "50000"
            ]
          },
          "metadata": {},
          "execution_count": 99
        }
      ]
    },
    {
      "cell_type": "code",
      "source": [
        "anomalous_data = train_images[np.where(train_labels != 0)[0]]"
      ],
      "metadata": {
        "id": "qGW4yJxRhoet"
      },
      "execution_count": null,
      "outputs": []
    },
    {
      "cell_type": "code",
      "source": [
        "len(plane_train_images)"
      ],
      "metadata": {
        "colab": {
          "base_uri": "https://localhost:8080/"
        },
        "id": "3u9MqCmsBItO",
        "outputId": "b5f50921-263b-4009-a678-1a5ef282a6e3"
      },
      "execution_count": null,
      "outputs": [
        {
          "output_type": "execute_result",
          "data": {
            "text/plain": [
              "5000"
            ]
          },
          "metadata": {},
          "execution_count": 101
        }
      ]
    },
    {
      "cell_type": "code",
      "source": [
        "\n",
        "len(anomalous_data)"
      ],
      "metadata": {
        "colab": {
          "base_uri": "https://localhost:8080/"
        },
        "id": "uydmVdcKBUii",
        "outputId": "c8b1589c-516c-4bde-c658-8739f8744732"
      },
      "execution_count": null,
      "outputs": [
        {
          "output_type": "execute_result",
          "data": {
            "text/plain": [
              "45000"
            ]
          },
          "metadata": {},
          "execution_count": 102
        }
      ]
    },
    {
      "cell_type": "code",
      "source": [
        "angle = 13\n",
        "\n",
        "rotated_anomalous_train_images = rotate_and_crop(anomalous_data, angle)"
      ],
      "metadata": {
        "id": "zKHzG9QRCHCy"
      },
      "execution_count": null,
      "outputs": []
    },
    {
      "cell_type": "code",
      "source": [
        "rotated_anomalous_train_images = rotated_anomalous_train_images.astype('float32') / 255."
      ],
      "metadata": {
        "id": "bnnU_uDRCbJV"
      },
      "execution_count": null,
      "outputs": []
    },
    {
      "cell_type": "code",
      "source": [
        "anomaly_angles = np.full((45000, 1), 13)"
      ],
      "metadata": {
        "id": "c3gdnaNYEPo1"
      },
      "execution_count": null,
      "outputs": []
    },
    {
      "cell_type": "code",
      "source": [
        "normal_reconstructed_images, normal_angle_predictions = autoencoder_model.predict([plane_train_images, rotated_plane_train_images])\n",
        "anomalous_reconstructed_images, anomalous_angle_predictions = autoencoder_model.predict([anomalous_data,rotated_anomalous_train_images])"
      ],
      "metadata": {
        "id": "jYd5VW8Chixt",
        "colab": {
          "base_uri": "https://localhost:8080/"
        },
        "outputId": "dac2ae79-970e-4d4f-df62-d6a29037e129"
      },
      "execution_count": null,
      "outputs": [
        {
          "output_type": "stream",
          "name": "stdout",
          "text": [
            "157/157 [==============================] - 9s 58ms/step\n",
            "1407/1407 [==============================] - 66s 47ms/step\n"
          ]
        }
      ]
    },
    {
      "cell_type": "code",
      "source": [
        "normal_angle_predictions[:10]"
      ],
      "metadata": {
        "colab": {
          "base_uri": "https://localhost:8080/"
        },
        "id": "nvZ2KcXFKbSF",
        "outputId": "75ba2a5e-42a5-442d-ca20-c39133a526a8"
      },
      "execution_count": null,
      "outputs": [
        {
          "output_type": "execute_result",
          "data": {
            "text/plain": [
              "array([[13.473684],\n",
              "       [12.887623],\n",
              "       [13.081071],\n",
              "       [14.073788],\n",
              "       [12.535558],\n",
              "       [12.703937],\n",
              "       [13.091694],\n",
              "       [13.082788],\n",
              "       [12.525716],\n",
              "       [12.705891]], dtype=float32)"
            ]
          },
          "metadata": {},
          "execution_count": 107
        }
      ]
    },
    {
      "cell_type": "code",
      "source": [
        "normal_image_errors = tf.keras.losses.mean_squared_error(plane_train_images, normal_reconstructed_images)\n",
        "normal_angle_errors = tf.keras.losses.mean_squared_error(train_angles, normal_angle_predictions)"
      ],
      "metadata": {
        "id": "nZd2pvatFq9a"
      },
      "execution_count": null,
      "outputs": []
    },
    {
      "cell_type": "code",
      "source": [
        "normal_image_errors.shape"
      ],
      "metadata": {
        "colab": {
          "base_uri": "https://localhost:8080/"
        },
        "id": "PhVvL1VeQ5is",
        "outputId": "da53d0d8-5570-4978-e3c7-0c9900ec6a96"
      },
      "execution_count": null,
      "outputs": [
        {
          "output_type": "execute_result",
          "data": {
            "text/plain": [
              "TensorShape([5000, 32, 32])"
            ]
          },
          "metadata": {},
          "execution_count": 109
        }
      ]
    },
    {
      "cell_type": "code",
      "source": [
        "normal_errors = [x + y for x, y in zip(normal_image_errors, normal_angle_errors)]"
      ],
      "metadata": {
        "id": "QtTSajErHKY3"
      },
      "execution_count": null,
      "outputs": []
    },
    {
      "cell_type": "code",
      "source": [
        "anomaly_image_errors = tf.keras.losses.mean_squared_error(anomalous_data, anomalous_reconstructed_images)\n",
        "anomaly_angle_errors = tf.keras.losses.mean_squared_error(anomaly_angles, anomalous_angle_predictions)"
      ],
      "metadata": {
        "id": "NADSUA0yHnBG"
      },
      "execution_count": null,
      "outputs": []
    },
    {
      "cell_type": "code",
      "source": [
        "anomalous_errors = [x + y for x, y in zip(anomaly_image_errors, anomaly_angle_errors)]"
      ],
      "metadata": {
        "id": "WdPLR6gHHyec"
      },
      "execution_count": null,
      "outputs": []
    },
    {
      "cell_type": "code",
      "source": [
        "# Calculate reconstruction errors for normal and anomalous data\n",
        "normal_errors_np = np.array(normal_errors)\n",
        "# Set threshold for anomaly detection based on normal data errors\n",
        "normal_errors_flat = normal_errors_np.flatten()\n",
        "# Visualize reconstruction errors for normal data\n",
        "plt.hist(normal_errors_flat, bins=200, color='blue', alpha=0.5, label='Normal')\n",
        "plt.xlabel('Reconstruction Error')\n",
        "plt.ylabel('Frequency')\n",
        "plt.title('Reconstruction Error Distribution for Normal Images')\n",
        "plt.legend()\n",
        "plt.show()\n",
        "\n",
        "# Visualize reconstruction errors for anomalous data\n",
        "anomalous_errors_np = np.array(anomalous_errors)\n",
        "anomalous_errors_flat = anomalous_errors_np.flatten()\n",
        "plt.hist(anomalous_errors_flat, bins=200, color='red', alpha=0.5, label='Anomalous')\n",
        "plt.xlabel('Reconstruction Error')\n",
        "plt.ylabel('Frequency')\n",
        "plt.title('Reconstruction Error Distribution for Anomalous Images')\n",
        "plt.legend()\n",
        "plt.show()"
      ],
      "metadata": {
        "id": "c3f8Bc4xgdvg",
        "colab": {
          "base_uri": "https://localhost:8080/",
          "height": 927
        },
        "outputId": "786801fe-b2cc-40e8-fab5-d4a8b6b5a86a"
      },
      "execution_count": null,
      "outputs": [
        {
          "output_type": "display_data",
          "data": {
            "text/plain": [
              "<Figure size 640x480 with 1 Axes>"
            ],
            "image/png": "[encoded data removed]"
          },
          "metadata": {}
        },
        {
          "output_type": "display_data",
          "data": {
            "text/plain": [
              "<Figure size 640x480 with 1 Axes>"
            ],
            "image/png": "[encoded data removed]"
          },
          "metadata": {}
        }
      ]
    },
    {
      "cell_type": "code",
      "source": [
        "anomalous_angle_predictions[:10]"
      ],
      "metadata": {
        "colab": {
          "base_uri": "https://localhost:8080/"
        },
        "id": "EeoeAuHyIDZz",
        "outputId": "e12bfb6b-938d-4611-831a-73e25cb3b0f9"
      },
      "execution_count": null,
      "outputs": [
        {
          "output_type": "execute_result",
          "data": {
            "text/plain": [
              "array([[479.22833],\n",
              "       [503.37393],\n",
              "       [453.2142 ],\n",
              "       [341.53613],\n",
              "       [431.47763],\n",
              "       [488.10803],\n",
              "       [502.41144],\n",
              "       [477.81287],\n",
              "       [580.38007],\n",
              "       [299.6315 ]], dtype=float32)"
            ]
          },
          "metadata": {},
          "execution_count": 114
        }
      ]
    },
    {
      "cell_type": "code",
      "source": [
        "normal_angle_predictions[:10]"
      ],
      "metadata": {
        "colab": {
          "base_uri": "https://localhost:8080/"
        },
        "id": "ysybYx7gJnhq",
        "outputId": "e8eefa10-3232-4bc0-fecd-8a830ee411be"
      },
      "execution_count": null,
      "outputs": [
        {
          "output_type": "execute_result",
          "data": {
            "text/plain": [
              "array([[13.473684],\n",
              "       [12.887623],\n",
              "       [13.081071],\n",
              "       [14.073788],\n",
              "       [12.535558],\n",
              "       [12.703937],\n",
              "       [13.091694],\n",
              "       [13.082788],\n",
              "       [12.525716],\n",
              "       [12.705891]], dtype=float32)"
            ]
          },
          "metadata": {},
          "execution_count": 115
        }
      ]
    },
    {
      "cell_type": "code",
      "source": [
        "normal_errors[0]"
      ],
      "metadata": {
        "colab": {
          "base_uri": "https://localhost:8080/"
        },
        "id": "Ohekm2PUQOle",
        "outputId": "13124690-1805-4ee2-fa19-ebe7d69fc2ae"
      },
      "execution_count": null,
      "outputs": [
        {
          "output_type": "execute_result",
          "data": {
            "text/plain": [
              "<tf.Tensor: shape=(32, 32), dtype=float32, numpy=\n",
              "array([[0.22483627, 0.22670735, 0.22501597, ..., 0.22517519, 0.22624023,\n",
              "        0.22449647],\n",
              "       [0.22463235, 0.22492081, 0.22496676, ..., 0.22773631, 0.23046032,\n",
              "        0.22754078],\n",
              "       [0.2247908 , 0.22456805, 0.22444834, ..., 0.22835238, 0.23025325,\n",
              "        0.2294439 ],\n",
              "       ...,\n",
              "       [0.26649797, 0.26933205, 0.26286757, ..., 0.22591205, 0.22662966,\n",
              "        0.23022076],\n",
              "       [0.27566743, 0.26430553, 0.2690085 , ..., 0.22633882, 0.22603141,\n",
              "        0.23788539],\n",
              "       [0.2811154 , 0.28400186, 0.279589  , ..., 0.238305  , 0.23826395,\n",
              "        0.2626011 ]], dtype=float32)>"
            ]
          },
          "metadata": {},
          "execution_count": 116
        }
      ]
    },
    {
      "cell_type": "code",
      "source": [
        "anomalous_errors[0]"
      ],
      "metadata": {
        "colab": {
          "base_uri": "https://localhost:8080/"
        },
        "id": "hWizx21RQbHn",
        "outputId": "d6847e64-0440-491d-fb68-dbd828e1e040"
      },
      "execution_count": null,
      "outputs": [
        {
          "output_type": "execute_result",
          "data": {
            "text/plain": [
              "<tf.Tensor: shape=(32, 32), dtype=float32, numpy=\n",
              "array([[221011.86, 219277.19, 219493.53, ..., 235121.86, 233494.86,\n",
              "        233082.86],\n",
              "       [217684.53, 217369.86, 217481.86, ..., 225825.19, 225051.86,\n",
              "        225759.86],\n",
              "       [217870.53, 217456.19, 218378.53, ..., 225028.53, 225185.86,\n",
              "        223545.19],\n",
              "       ...,\n",
              "       [244180.53, 238766.53, 239046.86, ..., 233190.86, 218689.19,\n",
              "        218753.53],\n",
              "       [237405.53, 232751.86, 235873.86, ..., 238617.86, 222044.19,\n",
              "        220874.53],\n",
              "       [238918.86, 235009.53, 237022.53, ..., 250380.53, 231728.19,\n",
              "        226770.86]], dtype=float32)>"
            ]
          },
          "metadata": {},
          "execution_count": 117
        }
      ]
    },
    {
      "cell_type": "code",
      "source": [
        "threshold = np.mean(normal_errors) + 3 * np.std(normal_errors)"
      ],
      "metadata": {
        "id": "8TgVoPlMKCAW"
      },
      "execution_count": null,
      "outputs": []
    },
    {
      "cell_type": "code",
      "source": [
        "threshold"
      ],
      "metadata": {
        "colab": {
          "base_uri": "https://localhost:8080/"
        },
        "id": "sDs_srDVRGH6",
        "outputId": "083d1ca9-6789-4d51-e5eb-e6fcb2ec7056"
      },
      "execution_count": null,
      "outputs": [
        {
          "output_type": "execute_result",
          "data": {
            "text/plain": [
              "1.0726476460695267"
            ]
          },
          "metadata": {},
          "execution_count": 119
        }
      ]
    },
    {
      "cell_type": "code",
      "source": [
        "normal_predictions = normal_errors<threshold\n",
        "anomalous_predictions = anomalous_errors>=threshold"
      ],
      "metadata": {
        "id": "FTet-Z0jKslW"
      },
      "execution_count": null,
      "outputs": []
    },
    {
      "cell_type": "code",
      "source": [
        "normal_predictions.shape"
      ],
      "metadata": {
        "colab": {
          "base_uri": "https://localhost:8080/"
        },
        "id": "vM6nDqS1OeXW",
        "outputId": "aba9bab6-bd32-49f2-8dfe-9784f8fbba95"
      },
      "execution_count": null,
      "outputs": [
        {
          "output_type": "execute_result",
          "data": {
            "text/plain": [
              "(5000, 32, 32)"
            ]
          },
          "metadata": {},
          "execution_count": 121
        }
      ]
    },
    {
      "cell_type": "code",
      "source": [
        "anomalous_predictions.shape"
      ],
      "metadata": {
        "colab": {
          "base_uri": "https://localhost:8080/"
        },
        "id": "dxUDZCC7Ojwm",
        "outputId": "69eddb52-a46b-4acf-ae5d-6a2eee1db3c0"
      },
      "execution_count": null,
      "outputs": [
        {
          "output_type": "execute_result",
          "data": {
            "text/plain": [
              "(45000, 32, 32)"
            ]
          },
          "metadata": {},
          "execution_count": 122
        }
      ]
    },
    {
      "cell_type": "code",
      "source": [
        "from sklearn.metrics import roc_auc_score\n",
        "\n",
        "# Convert TensorFlow tensors to NumPy arrays\n",
        "normal_predictions_np = normal_predictions.ravel()\n",
        "anomalous_predictions_np = anomalous_predictions.ravel()\n",
        "\n",
        "# Convert lists to NumPy arrays\n",
        "normal_errors_np = np.array(normal_errors).ravel()\n",
        "anomalous_errors_np = np.array(anomalous_errors).ravel()\n",
        "\n",
        "# Combine normal and anomalous predictions and errors\n",
        "\n",
        "# Combine normal and anomalous predictions and errors\n",
        "all_predictions = np.concatenate([normal_predictions_np, anomalous_predictions_np])\n",
        "all_errors = np.concatenate([normal_errors_np, anomalous_errors_np])\n",
        "\n",
        "# Create labels: 0 for normal (negative class), 1 for anomalous (positive class)\n",
        "true_labels = np.concatenate([np.zeros_like(normal_predictions_np), np.ones_like(anomalous_predictions_np)])\n",
        "\n",
        "# Calculate AUC\n",
        "auc_score = roc_auc_score(true_labels, all_errors)\n",
        "\n",
        "print(\"AUC Score:\", auc_score)"
      ],
      "metadata": {
        "colab": {
          "base_uri": "https://localhost:8080/"
        },
        "id": "yF38xVQWMBl7",
        "outputId": "c9563713-2a4d-430c-ede7-9c1eb6db2b65"
      },
      "execution_count": null,
      "outputs": [
        {
          "output_type": "stream",
          "name": "stdout",
          "text": [
            "AUC Score: 1.0\n"
          ]
        }
      ]
    },
    {
      "cell_type": "code",
      "source": [
        "import numpy as np\n",
        "import tensorflow as tf\n",
        "from tensorflow.keras.preprocessing.image import ImageDataGenerator\n",
        "\n",
        "# Define transformations\n",
        "datagen = ImageDataGenerator(\n",
        "    rotation_range=90,\n",
        "    width_shift_range=0.125,\n",
        "    height_shift_range=0.125,\n",
        "    zoom_range=[0.8, 1.2],\n",
        ")\n",
        "\n",
        "# Create generator for normal data\n",
        "normal_generator = datagen.flow(plane_train_images, shuffle=False, batch_size=plane_train_images.shape[0])\n",
        "\n",
        "# Create generator for anomalous data\n",
        "anomalous_generator = datagen.flow(anomalous_data, shuffle=False, batch_size=anomalous_data.shape[0])\n",
        "\n",
        "# Generate augmented images\n",
        "normal_augmented_data = normal_generator.next()\n",
        "anomalous_augmented_data = anomalous_generator.next()\n",
        "anomalous_augmented_data = anomalous_augmented_data/ 255.0"
      ],
      "metadata": {
        "id": "BL77WjpMMFVZ"
      },
      "execution_count": null,
      "outputs": []
    },
    {
      "cell_type": "code",
      "source": [
        "normal_reconstructed_aug_images, normal_angle_aug_predictions = autoencoder_model.predict([normal_augmented_data, rotated_plane_train_images])\n",
        "anomalous_reconstructed_aug_images, anomalous_angle_aug_predictions = autoencoder_model.predict([anomalous_augmented_data,rotated_anomalous_train_images])"
      ],
      "metadata": {
        "colab": {
          "base_uri": "https://localhost:8080/"
        },
        "id": "NdfSVSrhyXr8",
        "outputId": "32bf8415-53a4-4029-c8a4-e83fffbcdea4"
      },
      "execution_count": null,
      "outputs": [
        {
          "output_type": "stream",
          "name": "stdout",
          "text": [
            "157/157 [==============================] - 8s 50ms/step\n",
            "1407/1407 [==============================] - 67s 47ms/step\n"
          ]
        }
      ]
    },
    {
      "cell_type": "code",
      "source": [
        "normal_image_aug_errors = tf.keras.losses.mean_squared_error(normal_augmented_data, normal_reconstructed_aug_images)\n",
        "normal_angle_errors = tf.keras.losses.mean_squared_error(train_angles, normal_angle_predictions)"
      ],
      "metadata": {
        "id": "tLeuuqrKCopL"
      },
      "execution_count": null,
      "outputs": []
    },
    {
      "cell_type": "code",
      "source": [
        "normal_aug_errors = [x + y for x, y in zip(normal_image_aug_errors, normal_angle_errors)]\n",
        "normal_aug_errors = tf.convert_to_tensor(normal_aug_errors, dtype=tf.float32)"
      ],
      "metadata": {
        "id": "X8SFRnbXEpS0"
      },
      "execution_count": null,
      "outputs": []
    },
    {
      "cell_type": "code",
      "source": [
        "anomaly_image_aug_errors = tf.keras.losses.mean_squared_error(anomalous_augmented_data, anomalous_reconstructed_aug_images)\n",
        "anomaly_angle_errors = tf.keras.losses.mean_squared_error(anomaly_angles, anomalous_angle_predictions)"
      ],
      "metadata": {
        "id": "Tnj3n4ojItDT"
      },
      "execution_count": null,
      "outputs": []
    },
    {
      "cell_type": "code",
      "source": [
        "anomalous_aug_errors = [x + y for x, y in zip(anomaly_image_aug_errors, anomaly_angle_errors)]\n",
        "anomalous_aug_errors = tf.convert_to_tensor(anomalous_aug_errors, dtype=tf.float32)"
      ],
      "metadata": {
        "id": "1SNwNQ40I29p"
      },
      "execution_count": null,
      "outputs": []
    },
    {
      "cell_type": "code",
      "source": [
        "threshold_aug = 0.0005"
      ],
      "metadata": {
        "id": "7WtGop2cI9Ra"
      },
      "execution_count": null,
      "outputs": []
    },
    {
      "cell_type": "code",
      "source": [
        "threshold_aug"
      ],
      "metadata": {
        "colab": {
          "base_uri": "https://localhost:8080/"
        },
        "id": "gcteupBTH4tO",
        "outputId": "b23b1a20-96a5-42fc-86e6-b0d0e2a26164"
      },
      "execution_count": null,
      "outputs": [
        {
          "output_type": "execute_result",
          "data": {
            "text/plain": [
              "0.0005"
            ]
          },
          "metadata": {},
          "execution_count": 181
        }
      ]
    },
    {
      "cell_type": "code",
      "source": [
        "normal_aug_predictions = tf.math.less(normal_aug_errors, threshold_aug)\n",
        "anomalous_aug_predictions = tf.math.greater_equal(anomalous_aug_errors, threshold_aug)"
      ],
      "metadata": {
        "id": "kEILLX_yK3xW"
      },
      "execution_count": null,
      "outputs": []
    },
    {
      "cell_type": "code",
      "source": [
        "from sklearn.metrics import roc_auc_score\n",
        "\n",
        "# Convert TensorFlow tensors to NumPy arrays\n",
        "normal_aug_predictions_np = normal_aug_predictions.numpy().ravel()\n",
        "anomalous_aug_predictions_np = anomalous_aug_predictions.numpy().ravel()\n",
        "\n",
        "# Combine normal and anomalous predictions and errors\n",
        "all_predictions = np.concatenate([normal_aug_predictions_np, anomalous_aug_predictions_np])\n",
        "all_errors = np.concatenate([normal_aug_errors.numpy().ravel(), anomalous_aug_errors.numpy().ravel()])\n",
        "\n",
        "# Create labels: 0 for normal (negative class), 1 for anomalous (positive class)\n",
        "true_labels = np.concatenate([np.zeros_like(normal_aug_predictions_np), np.ones_like(anomalous_aug_predictions_np)])\n",
        "\n",
        "# Calculate AUC\n",
        "auc_score = roc_auc_score(true_labels, all_errors)\n",
        "\n",
        "print(\"AUC Score:\", auc_score)\n"
      ],
      "metadata": {
        "colab": {
          "base_uri": "https://localhost:8080/"
        },
        "id": "y0SyqzESK8ba",
        "outputId": "211889dc-e9dc-4e5a-fdd9-6424c121cfdb"
      },
      "execution_count": null,
      "outputs": [
        {
          "output_type": "stream",
          "name": "stdout",
          "text": [
            "AUC Score: 1.0\n"
          ]
        }
      ]
    },
    {
      "cell_type": "code",
      "source": [],
      "metadata": {
        "id": "wHDZN7FCL3qF"
      },
      "execution_count": null,
      "outputs": []
    }
  ]
}